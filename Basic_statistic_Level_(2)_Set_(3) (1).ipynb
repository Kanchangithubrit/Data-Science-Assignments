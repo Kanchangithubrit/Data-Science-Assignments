{
 "cells": [
  {
   "cell_type": "code",
   "execution_count": null,
   "metadata": {
    "id": "9QImHC6SqPQP"
   },
   "outputs": [],
   "source": [
    "\n",
    "import pandas as pd\n",
    "import numpy as np\n",
    "import matplotlib.pyplot as plt\n",
    "import seaborn as sns\n",
    "import warnings\n",
    "warnings.filterwarnings('ignore')\n",
    "\n",
    "from scipy import stats"
   ]
  },
  {
   "cell_type": "markdown",
   "metadata": {
    "id": "T08ZYeyVqr8x"
   },
   "source": [
    "Question No. 8"
   ]
  },
  {
   "cell_type": "code",
   "execution_count": null,
   "metadata": {
    "id": "gPTNeZJDqrGp"
   },
   "outputs": [],
   "source": [
    "print('\\n number of employees must we contact in order to guarantee a margin of error of no more than 4%  :',\n",
    "      round(np.power(1.96,2)*(0.5)*(1-0.5)/(np.power(0.04,2))))"
   ]
  },
  {
   "cell_type": "markdown",
   "metadata": {
    "id": "FDy5w3HiqyZZ"
   },
   "source": [
    "Question No. 9"
   ]
  },
  {
   "cell_type": "code",
   "execution_count": null,
   "metadata": {
    "id": "bjQ8eup0qzhu"
   },
   "outputs": [],
   "source": [
    "print('\\n number of employees must we contact in order to guarantee a margin of error of no more than 4%  :',\n",
    "      round(np.power(2.33,2)*(0.5)*(1-0.5)/(np.power(0.04,2))))"
   ]
  }
 ],
 "metadata": {
  "colab": {
   "private_outputs": true,
   "provenance": []
  },
  "kernelspec": {
   "display_name": "Python 3 (ipykernel)",
   "language": "python",
   "name": "python3"
  },
  "language_info": {
   "codemirror_mode": {
    "name": "ipython",
    "version": 3
   },
   "file_extension": ".py",
   "mimetype": "text/x-python",
   "name": "python",
   "nbconvert_exporter": "python",
   "pygments_lexer": "ipython3",
   "version": "3.9.13"
  }
 },
 "nbformat": 4,
 "nbformat_minor": 1
}
