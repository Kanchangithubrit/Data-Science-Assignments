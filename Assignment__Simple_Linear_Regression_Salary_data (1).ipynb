{
 "cells": [
  {
   "cell_type": "code",
   "execution_count": null,
   "metadata": {
    "id": "DFx7nY3wtbic"
   },
   "outputs": [],
   "source": [
    "\n",
    "import numpy as np\n",
    "import pandas as pd\n",
    "import matplotlib.pyplot as plt\n",
    "import seaborn as sns\n",
    "from scipy import stats\n",
    "import statsmodels.api as smf\n",
    "import warnings\n",
    "warnings.filterwarnings('ignore')"
   ]
  },
  {
   "cell_type": "code",
   "execution_count": null,
   "metadata": {
    "id": "qXv3xLueuDyQ"
   },
   "outputs": [],
   "source": [
    "\n",
    "from google.colab import files\n",
    "uploaded=files.upload()"
   ]
  },
  {
   "cell_type": "code",
   "execution_count": null,
   "metadata": {
    "id": "-n5YnRdautM9"
   },
   "outputs": [],
   "source": [
    "\n",
    "salary_data=pd.read_csv('Salary_Data (1).csv')\n",
    "salary_data.head(5)"
   ]
  },
  {
   "cell_type": "code",
   "execution_count": null,
   "metadata": {
    "id": "aW9EFte9uy7G"
   },
   "outputs": [],
   "source": [
    "\n",
    "salary_data.describe()"
   ]
  },
  {
   "cell_type": "code",
   "execution_count": null,
   "metadata": {
    "id": "bXsYRLugu1iL"
   },
   "outputs": [],
   "source": [
    "\n",
    "salary_data.info()"
   ]
  },
  {
   "cell_type": "code",
   "execution_count": null,
   "metadata": {
    "id": "_7ElVbsqu5Lk"
   },
   "outputs": [],
   "source": [
    "salary_data.isnull().sum()\n",
    "     "
   ]
  },
  {
   "cell_type": "code",
   "execution_count": null,
   "metadata": {
    "id": "YFqNzYCfu7yb"
   },
   "outputs": [],
   "source": [
    "\n",
    "salary_data.shape"
   ]
  },
  {
   "cell_type": "markdown",
   "metadata": {
    "id": "ReLQDTLgvAF9"
   },
   "source": [
    "Visualisation of Data points"
   ]
  },
  {
   "cell_type": "code",
   "execution_count": null,
   "metadata": {
    "id": "MZpP014gvArs"
   },
   "outputs": [],
   "source": [
    "#finding relationship\n",
    "plt.figure(facecolor='yellow')\n",
    "plt.axes()\n",
    "plt.scatter(salary_data['YearsExperience'],salary_data['Salary'],marker='*')\n",
    "plt.title('scatter plot',color=\"blue\")\n",
    "plt.xlabel(\"YearsExperience\",color=\"red\",size=10)\n",
    "plt.ylabel(\"Salary\",color=\"green\",size=10)\n",
    "plt.show()"
   ]
  },
  {
   "cell_type": "code",
   "execution_count": null,
   "metadata": {
    "id": "LCx9My32vDQ3"
   },
   "outputs": [],
   "source": [
    "\n",
    "plt.figure(figsize=(10,5));\n",
    "plt.subplot(1,2,1);\n",
    "plt.plot(salary_data['YearsExperience'],salary_data['Salary'],label = 'salary',color=\"green\",linestyle=\"dashed\");\n",
    "plt.xlabel('years-experience');\n",
    "plt.ylabel('salary');\n",
    "plt.subplot(1,2,2);\n",
    "sns.heatmap(data=salary_data, annot=True)\n",
    "plt.show()"
   ]
  },
  {
   "cell_type": "code",
   "execution_count": null,
   "metadata": {
    "id": "VfLSt8rovHwH"
   },
   "outputs": [],
   "source": [
    "#checking outliers\n",
    "plt.figure(figsize=(10,5));\n",
    "plt.subplot(1,2,1);\n",
    "plt.violinplot(salary_data['YearsExperience'])\n",
    "plt.boxplot(salary_data['YearsExperience'])\n",
    "plt.xlabel('years-experience')\n",
    "plt.subplot(1,2,2);\n",
    "plt.violinplot(salary_data['Salary'])\n",
    "plt.boxplot(salary_data['Salary'])\n",
    "plt.xlabel('salary')\n",
    "plt.show()"
   ]
  },
  {
   "cell_type": "code",
   "execution_count": null,
   "metadata": {
    "id": "mnIEcZE2vKfu"
   },
   "outputs": [],
   "source": [
    "#checking datapoints area\n",
    "plt.figure(figsize=(15,5));\n",
    "plt.subplot(1,2,1);\n",
    "sns.distplot(salary_data['YearsExperience'])\n",
    "plt.xlabel('years-experince')\n",
    "plt.subplot(1,2,2);\n",
    "sns.distplot(salary_data['Salary'])\n",
    "plt.xlabel('salary')\n",
    "plt.show()"
   ]
  },
  {
   "cell_type": "markdown",
   "metadata": {
    "id": "dfmVRoEMvOVl"
   },
   "source": [
    "Statistics & Regression"
   ]
  },
  {
   "cell_type": "code",
   "execution_count": null,
   "metadata": {
    "id": "9qyZbFQovL3J"
   },
   "outputs": [],
   "source": [
    "\n",
    "#correlation\n",
    "salary_data.corr()"
   ]
  },
  {
   "cell_type": "code",
   "execution_count": null,
   "metadata": {
    "id": "eOv68lz2vS0E"
   },
   "outputs": [],
   "source": [
    "#pairplot\n",
    "sns.pairplot(salary_data)"
   ]
  },
  {
   "cell_type": "code",
   "execution_count": null,
   "metadata": {
    "id": "hLItNQPqvWCX"
   },
   "outputs": [],
   "source": [
    "\n",
    "#fitting\n",
    "import statsmodels.formula.api as smf\n",
    "salary_model = smf.ols('Salary~YearsExperience',data = salary_data).fit()"
   ]
  },
  {
   "cell_type": "code",
   "execution_count": null,
   "metadata": {
    "id": "cJlrcwQtvZW7"
   },
   "outputs": [],
   "source": [
    "#regression plot\n",
    "sns.regplot(x=\"YearsExperience\", y=\"Salary\", data=salary_data)"
   ]
  },
  {
   "cell_type": "code",
   "execution_count": null,
   "metadata": {
    "id": "eWCVDKxxvcjK"
   },
   "outputs": [],
   "source": [
    "\n",
    "# fitted model summary\n",
    "salary_model.summary()"
   ]
  },
  {
   "cell_type": "code",
   "execution_count": null,
   "metadata": {
    "id": "Pqkt7_OLvft-"
   },
   "outputs": [],
   "source": [
    "\n",
    "#coefficients\n",
    "salary_model.params"
   ]
  },
  {
   "cell_type": "code",
   "execution_count": null,
   "metadata": {
    "id": "twNOXuJovtI7"
   },
   "outputs": [],
   "source": [
    "# t and p a values\n",
    "print(salary_model.tvalues,'\\n' ,salary_model.pvalues)\n",
    "     \n"
   ]
  },
  {
   "cell_type": "code",
   "execution_count": null,
   "metadata": {
    "id": "7i0XmPMuvxD_"
   },
   "outputs": [],
   "source": [
    "\n",
    "# model prediction\n",
    "salary_hike=(25792.200199)+(9449.962321)*3\n",
    "salary_hike"
   ]
  },
  {
   "cell_type": "code",
   "execution_count": null,
   "metadata": {
    "id": "DsoT0nlDvz_j"
   },
   "outputs": [],
   "source": [
    "\n",
    "salary_data_pred=pd.DataFrame(pd.Series([5,8]),columns=['YearsExperience'])\n",
    "salary_data_pred"
   ]
  },
  {
   "cell_type": "code",
   "execution_count": null,
   "metadata": {
    "id": "iXSckrxOv3EA"
   },
   "outputs": [],
   "source": [
    "\n",
    "salary_model.predict(salary_data_pred)"
   ]
  },
  {
   "cell_type": "markdown",
   "metadata": {
    "id": "sA-qgTWzv8e_"
   },
   "source": [
    "Transformation with log"
   ]
  },
  {
   "cell_type": "code",
   "execution_count": null,
   "metadata": {
    "id": "b-RUIJvmv52x"
   },
   "outputs": [],
   "source": [
    "\n",
    "x=salary_data['YearsExperience']\n",
    "y=salary_data.Salary\n",
    "\n",
    "salary_data['log_x']=np.log(x)\n",
    "salary_data['log_y']=np.log(y)\n",
    "\n",
    "salary_data.head()"
   ]
  },
  {
   "cell_type": "code",
   "execution_count": null,
   "metadata": {
    "id": "923pp0d-wEws"
   },
   "outputs": [],
   "source": [
    "#plotting\n",
    "sns.distplot(x)\n",
    "sns.distplot(salary_data.log_x)\n",
    "labels=(\"Original x\",\"log_x\")\n",
    "plt.legend(labels)"
   ]
  },
  {
   "cell_type": "code",
   "execution_count": null,
   "metadata": {
    "id": "MlFXJaBVwIZ-"
   },
   "outputs": [],
   "source": [
    "\n",
    "# Building Linear Regression Model with log_x\n",
    "salary_model2=smf.ols(\"log_y~log_x\",data=salary_data).fit()\n",
    "     "
   ]
  },
  {
   "cell_type": "code",
   "execution_count": null,
   "metadata": {
    "id": "KPmdex-PwLyI"
   },
   "outputs": [],
   "source": [
    "#plot of best fit line in the LOG Transformation case\n",
    "plt.plot(salary_data.log_x,salary_model2.params[0]+salary_model2.params[1]*(salary_data.log_x),\"r\")\n",
    "sns.scatterplot()"
   ]
  },
  {
   "cell_type": "code",
   "execution_count": null,
   "metadata": {
    "id": "MYohG3YDwOul"
   },
   "outputs": [],
   "source": [
    "\n",
    "salary_model2.summary()"
   ]
  },
  {
   "cell_type": "markdown",
   "metadata": {
    "id": "YKNnZwOpwhIa"
   },
   "source": [
    "Boxcox Transformation"
   ]
  },
  {
   "cell_type": "code",
   "execution_count": null,
   "metadata": {
    "id": "KTZmhCFAweNd"
   },
   "outputs": [],
   "source": [
    "\n",
    "#BOXCOX TRANSFORMATION of x and y\n",
    "x=salary_data['YearsExperience']\n",
    "y=salary_data.Salary\n",
    "\n",
    "bc_x=stats.boxcox(x)\n",
    "bc_x=list(bc_x)\n",
    "bc_x.pop()\n",
    "bc_x=bc_x[0]\n",
    "salary_data[\"bc_x\"]=bc_x\n",
    "\n",
    "bc_y=stats.boxcox(y)\n",
    "bc_y=list(bc_y)\n",
    "bc_y.pop()\n",
    "bc_y=bc_y[0]\n",
    "salary_data[\"bc_y\"]=bc_y\n",
    "\n",
    "salary_data.head()\n",
    "     "
   ]
  },
  {
   "cell_type": "code",
   "execution_count": null,
   "metadata": {
    "id": "ywwMgj5Gwlfb"
   },
   "outputs": [],
   "source": [
    "# boxcox Transformed Data plot\n",
    "plt.suptitle(\"Years Experienced\")\n",
    "sns.distplot(x)\n",
    "sns.distplot(bc_x)\n",
    "labels=(\"Original x\",\"box cox Transformed bc_x\")\n",
    "plt.legend(labels)"
   ]
  },
  {
   "cell_type": "code",
   "execution_count": null,
   "metadata": {
    "id": "WD3FgluIwo1o"
   },
   "outputs": [],
   "source": [
    "salary_model3=smf.ols(\"bc_x~bc_x\",data=salary_data).fit()"
   ]
  },
  {
   "cell_type": "code",
   "execution_count": null,
   "metadata": {
    "id": "Wg42ZfADwsLj"
   },
   "outputs": [],
   "source": [
    "# fitting line in the BOXCOX Transformation plot\n",
    "plt.plot(salary_data.bc_x,salary_model3.params[0]+salary_model3.params[1]*(salary_data.bc_x),\"r\")\n",
    "sns.scatterplot()"
   ]
  },
  {
   "cell_type": "code",
   "execution_count": null,
   "metadata": {
    "id": "Tal9AC-cwvRj"
   },
   "outputs": [],
   "source": [
    "salary_model3.summary()"
   ]
  },
  {
   "cell_type": "code",
   "execution_count": null,
   "metadata": {
    "id": "m5zgaMKdw2cY"
   },
   "outputs": [],
   "source": [
    "# comparing above 3 models\n",
    "test_data={'Model':pd.Series(['linearModel without Transformation','log Transformation','Boxcox  Transformation']),\n",
    "     'R Squared':pd.Series([salary_model3.rsquared,salary_model2.rsquared,salary_model3.rsquared]),\n",
    "     'adjR Squared':pd.Series([salary_model.rsquared_adj,salary_model2.rsquared_adj,salary_model3.rsquared_adj])}\n",
    "     \n",
    "test_table=pd.DataFrame(test_data)\n",
    "test_table"
   ]
  },
  {
   "cell_type": "markdown",
   "metadata": {
    "id": "_7DutZ9ixFmX"
   },
   "source": [
    "THANK YOU...."
   ]
  }
 ],
 "metadata": {
  "colab": {
   "private_outputs": true,
   "provenance": []
  },
  "kernelspec": {
   "display_name": "Python 3 (ipykernel)",
   "language": "python",
   "name": "python3"
  },
  "language_info": {
   "codemirror_mode": {
    "name": "ipython",
    "version": 3
   },
   "file_extension": ".py",
   "mimetype": "text/x-python",
   "name": "python",
   "nbconvert_exporter": "python",
   "pygments_lexer": "ipython3",
   "version": "3.9.13"
  }
 },
 "nbformat": 4,
 "nbformat_minor": 1
}
